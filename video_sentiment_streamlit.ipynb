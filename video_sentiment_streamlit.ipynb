{
 "cells": [
  {
   "cell_type": "code",
   "execution_count": 1,
   "id": "b8790bf1",
   "metadata": {},
   "outputs": [],
   "source": [
    "# Installing Dependencies\n",
    "import warnings\n",
    "warnings.filterwarnings('ignore')  # Ignores all warnings\n",
    "warnings.filterwarnings('ignore', category=DeprecationWarning)  # Ignores only deprecation warnings"
   ]
  },
  {
   "cell_type": "code",
   "execution_count": 2,
   "id": "0258b392",
   "metadata": {},
   "outputs": [
    {
     "name": "stdout",
     "output_type": "stream",
     "text": [
      "Requirement already satisfied: pip in c:\\users\\dhanashri\\anaconda3\\lib\\site-packages (24.2)Note: you may need to restart the kernel to use updated packages.\n",
      "\n"
     ]
    }
   ],
   "source": [
    "pip install --upgrade pip"
   ]
  },
  {
   "cell_type": "code",
   "execution_count": 3,
   "id": "bdcbac21",
   "metadata": {},
   "outputs": [
    {
     "name": "stdout",
     "output_type": "stream",
     "text": [
      "Requirement already satisfied: streamlit in c:\\users\\dhanashri\\anaconda3\\lib\\site-packages (1.37.1)\n",
      "Requirement already satisfied: altair<6,>=4.0 in c:\\users\\dhanashri\\anaconda3\\lib\\site-packages (from streamlit) (5.4.0)\n",
      "Requirement already satisfied: blinker<2,>=1.0.0 in c:\\users\\dhanashri\\anaconda3\\lib\\site-packages (from streamlit) (1.8.2)\n",
      "Requirement already satisfied: cachetools<6,>=4.0 in c:\\users\\dhanashri\\anaconda3\\lib\\site-packages (from streamlit) (5.4.0)\n",
      "Requirement already satisfied: click<9,>=7.0 in c:\\users\\dhanashri\\anaconda3\\lib\\site-packages (from streamlit) (8.1.7)\n",
      "Requirement already satisfied: numpy<3,>=1.20 in c:\\users\\dhanashri\\anaconda3\\lib\\site-packages (from streamlit) (1.26.4)\n",
      "Requirement already satisfied: packaging<25,>=20 in c:\\users\\dhanashri\\anaconda3\\lib\\site-packages (from streamlit) (21.3)\n",
      "Requirement already satisfied: pandas<3,>=1.3.0 in c:\\users\\dhanashri\\anaconda3\\lib\\site-packages (from streamlit) (1.4.4)\n",
      "Requirement already satisfied: pillow<11,>=7.1.0 in c:\\users\\dhanashri\\anaconda3\\lib\\site-packages (from streamlit) (10.4.0)\n",
      "Requirement already satisfied: protobuf<6,>=3.20 in c:\\users\\dhanashri\\anaconda3\\lib\\site-packages (from streamlit) (4.25.4)\n",
      "Requirement already satisfied: pyarrow>=7.0 in c:\\users\\dhanashri\\anaconda3\\lib\\site-packages (from streamlit) (17.0.0)\n",
      "Requirement already satisfied: requests<3,>=2.27 in c:\\users\\dhanashri\\anaconda3\\lib\\site-packages (from streamlit) (2.32.3)\n",
      "Requirement already satisfied: rich<14,>=10.14.0 in c:\\users\\dhanashri\\anaconda3\\lib\\site-packages (from streamlit) (13.7.1)\n",
      "Requirement already satisfied: tenacity<9,>=8.1.0 in c:\\users\\dhanashri\\anaconda3\\lib\\site-packages (from streamlit) (8.5.0)\n",
      "Requirement already satisfied: toml<2,>=0.10.1 in c:\\users\\dhanashri\\anaconda3\\lib\\site-packages (from streamlit) (0.10.2)\n",
      "Requirement already satisfied: typing-extensions<5,>=4.3.0 in c:\\users\\dhanashri\\anaconda3\\lib\\site-packages (from streamlit) (4.12.2)\n",
      "Requirement already satisfied: gitpython!=3.1.19,<4,>=3.0.7 in c:\\users\\dhanashri\\anaconda3\\lib\\site-packages (from streamlit) (3.1.43)\n",
      "Requirement already satisfied: pydeck<1,>=0.8.0b4 in c:\\users\\dhanashri\\anaconda3\\lib\\site-packages (from streamlit) (0.9.1)\n",
      "Requirement already satisfied: tornado<7,>=6.0.3 in c:\\users\\dhanashri\\anaconda3\\lib\\site-packages (from streamlit) (6.1)\n",
      "Requirement already satisfied: watchdog<5,>=2.1.5 in c:\\users\\dhanashri\\anaconda3\\lib\\site-packages (from streamlit) (2.1.6)\n",
      "Requirement already satisfied: jinja2 in c:\\users\\dhanashri\\anaconda3\\lib\\site-packages (from altair<6,>=4.0->streamlit) (3.1.4)\n",
      "Requirement already satisfied: jsonschema>=3.0 in c:\\users\\dhanashri\\anaconda3\\lib\\site-packages (from altair<6,>=4.0->streamlit) (4.16.0)\n",
      "Requirement already satisfied: narwhals>=1.1.0 in c:\\users\\dhanashri\\anaconda3\\lib\\site-packages (from altair<6,>=4.0->streamlit) (1.4.1)\n",
      "Requirement already satisfied: colorama in c:\\users\\dhanashri\\anaconda3\\lib\\site-packages (from click<9,>=7.0->streamlit) (0.4.6)\n",
      "Requirement already satisfied: gitdb<5,>=4.0.1 in c:\\users\\dhanashri\\anaconda3\\lib\\site-packages (from gitpython!=3.1.19,<4,>=3.0.7->streamlit) (4.0.11)\n",
      "Requirement already satisfied: pyparsing!=3.0.5,>=2.0.2 in c:\\users\\dhanashri\\anaconda3\\lib\\site-packages (from packaging<25,>=20->streamlit) (3.0.9)\n",
      "Requirement already satisfied: python-dateutil>=2.8.1 in c:\\users\\dhanashri\\anaconda3\\lib\\site-packages (from pandas<3,>=1.3.0->streamlit) (2.8.2)\n",
      "Requirement already satisfied: pytz>=2020.1 in c:\\users\\dhanashri\\anaconda3\\lib\\site-packages (from pandas<3,>=1.3.0->streamlit) (2022.1)\n",
      "Requirement already satisfied: charset-normalizer<4,>=2 in c:\\users\\dhanashri\\anaconda3\\lib\\site-packages (from requests<3,>=2.27->streamlit) (3.3.2)\n",
      "Requirement already satisfied: idna<4,>=2.5 in c:\\users\\dhanashri\\anaconda3\\lib\\site-packages (from requests<3,>=2.27->streamlit) (3.7)\n",
      "Requirement already satisfied: urllib3<3,>=1.21.1 in c:\\users\\dhanashri\\anaconda3\\lib\\site-packages (from requests<3,>=2.27->streamlit) (2.2.2)\n",
      "Requirement already satisfied: certifi>=2017.4.17 in c:\\users\\dhanashri\\anaconda3\\lib\\site-packages (from requests<3,>=2.27->streamlit) (2024.7.4)\n",
      "Requirement already satisfied: markdown-it-py>=2.2.0 in c:\\users\\dhanashri\\anaconda3\\lib\\site-packages (from rich<14,>=10.14.0->streamlit) (3.0.0)\n",
      "Requirement already satisfied: pygments<3.0.0,>=2.13.0 in c:\\users\\dhanashri\\anaconda3\\lib\\site-packages (from rich<14,>=10.14.0->streamlit) (2.18.0)\n",
      "Requirement already satisfied: smmap<6,>=3.0.1 in c:\\users\\dhanashri\\anaconda3\\lib\\site-packages (from gitdb<5,>=4.0.1->gitpython!=3.1.19,<4,>=3.0.7->streamlit) (5.0.1)\n",
      "Requirement already satisfied: MarkupSafe>=2.0 in c:\\users\\dhanashri\\anaconda3\\lib\\site-packages (from jinja2->altair<6,>=4.0->streamlit) (2.1.5)\n",
      "Requirement already satisfied: attrs>=17.4.0 in c:\\users\\dhanashri\\anaconda3\\lib\\site-packages (from jsonschema>=3.0->altair<6,>=4.0->streamlit) (21.4.0)\n",
      "Requirement already satisfied: pyrsistent!=0.17.0,!=0.17.1,!=0.17.2,>=0.14.0 in c:\\users\\dhanashri\\anaconda3\\lib\\site-packages (from jsonschema>=3.0->altair<6,>=4.0->streamlit) (0.18.0)\n",
      "Requirement already satisfied: mdurl~=0.1 in c:\\users\\dhanashri\\anaconda3\\lib\\site-packages (from markdown-it-py>=2.2.0->rich<14,>=10.14.0->streamlit) (0.1.2)\n",
      "Requirement already satisfied: six>=1.5 in c:\\users\\dhanashri\\anaconda3\\lib\\site-packages (from python-dateutil>=2.8.1->pandas<3,>=1.3.0->streamlit) (1.16.0)\n",
      "Note: you may need to restart the kernel to use updated packages.\n"
     ]
    }
   ],
   "source": [
    "pip install --upgrade streamlit"
   ]
  },
  {
   "cell_type": "code",
   "execution_count": 4,
   "id": "c9dd01e9",
   "metadata": {},
   "outputs": [
    {
     "name": "stdout",
     "output_type": "stream",
     "text": [
      "Requirement already satisfied: moviepy in c:\\users\\dhanashri\\anaconda3\\lib\\site-packages (1.0.3)\n",
      "Requirement already satisfied: decorator<5.0,>=4.0.2 in c:\\users\\dhanashri\\anaconda3\\lib\\site-packages (from moviepy) (4.4.2)\n",
      "Requirement already satisfied: tqdm<5.0,>=4.11.2 in c:\\users\\dhanashri\\anaconda3\\lib\\site-packages (from moviepy) (4.66.4)\n",
      "Requirement already satisfied: requests<3.0,>=2.8.1 in c:\\users\\dhanashri\\anaconda3\\lib\\site-packages (from moviepy) (2.32.3)\n",
      "Requirement already satisfied: proglog<=1.0.0 in c:\\users\\dhanashri\\anaconda3\\lib\\site-packages (from moviepy) (0.1.10)\n",
      "Requirement already satisfied: numpy>=1.17.3 in c:\\users\\dhanashri\\anaconda3\\lib\\site-packages (from moviepy) (1.26.4)\n",
      "Requirement already satisfied: imageio<3.0,>=2.5 in c:\\users\\dhanashri\\anaconda3\\lib\\site-packages (from moviepy) (2.34.2)\n",
      "Requirement already satisfied: imageio-ffmpeg>=0.2.0 in c:\\users\\dhanashri\\anaconda3\\lib\\site-packages (from moviepy) (0.5.1)\n",
      "Requirement already satisfied: pillow>=8.3.2 in c:\\users\\dhanashri\\anaconda3\\lib\\site-packages (from imageio<3.0,>=2.5->moviepy) (10.4.0)\n",
      "Requirement already satisfied: setuptools in c:\\users\\dhanashri\\anaconda3\\lib\\site-packages (from imageio-ffmpeg>=0.2.0->moviepy) (71.1.0)\n",
      "Requirement already satisfied: charset-normalizer<4,>=2 in c:\\users\\dhanashri\\anaconda3\\lib\\site-packages (from requests<3.0,>=2.8.1->moviepy) (3.3.2)\n",
      "Requirement already satisfied: idna<4,>=2.5 in c:\\users\\dhanashri\\anaconda3\\lib\\site-packages (from requests<3.0,>=2.8.1->moviepy) (3.7)\n",
      "Requirement already satisfied: urllib3<3,>=1.21.1 in c:\\users\\dhanashri\\anaconda3\\lib\\site-packages (from requests<3.0,>=2.8.1->moviepy) (2.2.2)\n",
      "Requirement already satisfied: certifi>=2017.4.17 in c:\\users\\dhanashri\\anaconda3\\lib\\site-packages (from requests<3.0,>=2.8.1->moviepy) (2024.7.4)\n",
      "Requirement already satisfied: colorama in c:\\users\\dhanashri\\anaconda3\\lib\\site-packages (from tqdm<5.0,>=4.11.2->moviepy) (0.4.6)\n",
      "Note: you may need to restart the kernel to use updated packages.\n"
     ]
    }
   ],
   "source": [
    "pip install moviepy"
   ]
  },
  {
   "cell_type": "code",
   "execution_count": 5,
   "id": "95700b0a",
   "metadata": {
    "scrolled": false
   },
   "outputs": [
    {
     "name": "stdout",
     "output_type": "stream",
     "text": [
      "Requirement already satisfied: blinker==1.8.2 in c:\\users\\dhanashri\\anaconda3\\lib\\site-packages (from -r C:/Users/Dhanashri/project/requirements.txt (line 1)) (1.8.2)\n",
      "Requirement already satisfied: certifi==2024.7.4 in c:\\users\\dhanashri\\anaconda3\\lib\\site-packages (from -r C:/Users/Dhanashri/project/requirements.txt (line 2)) (2024.7.4)\n",
      "Requirement already satisfied: charset-normalizer==3.3.2 in c:\\users\\dhanashri\\anaconda3\\lib\\site-packages (from -r C:/Users/Dhanashri/project/requirements.txt (line 3)) (3.3.2)\n",
      "Requirement already satisfied: click==8.1.7 in c:\\users\\dhanashri\\anaconda3\\lib\\site-packages (from -r C:/Users/Dhanashri/project/requirements.txt (line 4)) (8.1.7)\n",
      "Requirement already satisfied: colorama==0.4.6 in c:\\users\\dhanashri\\anaconda3\\lib\\site-packages (from -r C:/Users/Dhanashri/project/requirements.txt (line 5)) (0.4.6)\n",
      "Requirement already satisfied: Cython==3.0.10 in c:\\users\\dhanashri\\anaconda3\\lib\\site-packages (from -r C:/Users/Dhanashri/project/requirements.txt (line 6)) (3.0.10)\n",
      "Requirement already satisfied: decorator==4.4.2 in c:\\users\\dhanashri\\anaconda3\\lib\\site-packages (from -r C:/Users/Dhanashri/project/requirements.txt (line 7)) (4.4.2)\n",
      "Requirement already satisfied: dtw-python==1.5.1 in c:\\users\\dhanashri\\anaconda3\\lib\\site-packages (from -r C:/Users/Dhanashri/project/requirements.txt (line 8)) (1.5.1)\n",
      "Requirement already satisfied: filelock==3.15.4 in c:\\users\\dhanashri\\anaconda3\\lib\\site-packages (from -r C:/Users/Dhanashri/project/requirements.txt (line 9)) (3.15.4)\n",
      "Requirement already satisfied: Flask==3.0.3 in c:\\users\\dhanashri\\anaconda3\\lib\\site-packages (from -r C:/Users/Dhanashri/project/requirements.txt (line 10)) (3.0.3)\n",
      "Requirement already satisfied: fsspec==2024.6.1 in c:\\users\\dhanashri\\anaconda3\\lib\\site-packages (from -r C:/Users/Dhanashri/project/requirements.txt (line 11)) (2024.6.1)\n",
      "Requirement already satisfied: idna==3.7 in c:\\users\\dhanashri\\anaconda3\\lib\\site-packages (from -r C:/Users/Dhanashri/project/requirements.txt (line 12)) (3.7)\n",
      "Requirement already satisfied: imageio==2.34.2 in c:\\users\\dhanashri\\anaconda3\\lib\\site-packages (from -r C:/Users/Dhanashri/project/requirements.txt (line 13)) (2.34.2)\n",
      "Requirement already satisfied: imageio-ffmpeg==0.5.1 in c:\\users\\dhanashri\\anaconda3\\lib\\site-packages (from -r C:/Users/Dhanashri/project/requirements.txt (line 14)) (0.5.1)\n",
      "Requirement already satisfied: itsdangerous==2.2.0 in c:\\users\\dhanashri\\anaconda3\\lib\\site-packages (from -r C:/Users/Dhanashri/project/requirements.txt (line 15)) (2.2.0)\n",
      "Requirement already satisfied: Jinja2==3.1.4 in c:\\users\\dhanashri\\anaconda3\\lib\\site-packages (from -r C:/Users/Dhanashri/project/requirements.txt (line 16)) (3.1.4)\n",
      "Requirement already satisfied: joblib==1.4.2 in c:\\users\\dhanashri\\anaconda3\\lib\\site-packages (from -r C:/Users/Dhanashri/project/requirements.txt (line 17)) (1.4.2)\n",
      "Requirement already satisfied: llvmlite==0.43.0 in c:\\users\\dhanashri\\anaconda3\\lib\\site-packages (from -r C:/Users/Dhanashri/project/requirements.txt (line 18)) (0.43.0)\n",
      "Requirement already satisfied: MarkupSafe==2.1.5 in c:\\users\\dhanashri\\anaconda3\\lib\\site-packages (from -r C:/Users/Dhanashri/project/requirements.txt (line 19)) (2.1.5)\n",
      "Requirement already satisfied: more-itertools==10.3.0 in c:\\users\\dhanashri\\anaconda3\\lib\\site-packages (from -r C:/Users/Dhanashri/project/requirements.txt (line 20)) (10.3.0)\n",
      "Requirement already satisfied: moviepy==1.0.3 in c:\\users\\dhanashri\\anaconda3\\lib\\site-packages (from -r C:/Users/Dhanashri/project/requirements.txt (line 21)) (1.0.3)\n",
      "Requirement already satisfied: mpmath==1.3.0 in c:\\users\\dhanashri\\anaconda3\\lib\\site-packages (from -r C:/Users/Dhanashri/project/requirements.txt (line 22)) (1.3.0)\n",
      "Requirement already satisfied: numba==0.60.0 in c:\\users\\dhanashri\\anaconda3\\lib\\site-packages (from -r C:/Users/Dhanashri/project/requirements.txt (line 23)) (0.60.0)\n",
      "Requirement already satisfied: numpy==1.26.4 in c:\\users\\dhanashri\\anaconda3\\lib\\site-packages (from -r C:/Users/Dhanashri/project/requirements.txt (line 24)) (1.26.4)\n",
      "Requirement already satisfied: openai-whisper==20231117 in c:\\users\\dhanashri\\anaconda3\\lib\\site-packages (from -r C:/Users/Dhanashri/project/requirements.txt (line 25)) (20231117)\n",
      "Requirement already satisfied: pillow==10.4.0 in c:\\users\\dhanashri\\anaconda3\\lib\\site-packages (from -r C:/Users/Dhanashri/project/requirements.txt (line 26)) (10.4.0)\n",
      "Requirement already satisfied: proglog==0.1.10 in c:\\users\\dhanashri\\anaconda3\\lib\\site-packages (from -r C:/Users/Dhanashri/project/requirements.txt (line 27)) (0.1.10)\n",
      "Requirement already satisfied: regex==2024.7.24 in c:\\users\\dhanashri\\anaconda3\\lib\\site-packages (from -r C:/Users/Dhanashri/project/requirements.txt (line 28)) (2024.7.24)\n",
      "Requirement already satisfied: requests==2.32.3 in c:\\users\\dhanashri\\anaconda3\\lib\\site-packages (from -r C:/Users/Dhanashri/project/requirements.txt (line 29)) (2.32.3)\n",
      "Requirement already satisfied: setuptools==71.1.0 in c:\\users\\dhanashri\\anaconda3\\lib\\site-packages (from -r C:/Users/Dhanashri/project/requirements.txt (line 30)) (71.1.0)\n",
      "Requirement already satisfied: sympy==1.13.1 in c:\\users\\dhanashri\\anaconda3\\lib\\site-packages (from -r C:/Users/Dhanashri/project/requirements.txt (line 31)) (1.13.1)\n",
      "Requirement already satisfied: tiktoken==0.7.0 in c:\\users\\dhanashri\\anaconda3\\lib\\site-packages (from -r C:/Users/Dhanashri/project/requirements.txt (line 32)) (0.7.0)\n",
      "Requirement already satisfied: torch==2.4.0 in c:\\users\\dhanashri\\anaconda3\\lib\\site-packages (from -r C:/Users/Dhanashri/project/requirements.txt (line 33)) (2.4.0)\n",
      "Requirement already satisfied: tqdm==4.66.4 in c:\\users\\dhanashri\\anaconda3\\lib\\site-packages (from -r C:/Users/Dhanashri/project/requirements.txt (line 34)) (4.66.4)\n",
      "Requirement already satisfied: typing_extensions==4.12.2 in c:\\users\\dhanashri\\anaconda3\\lib\\site-packages (from -r C:/Users/Dhanashri/project/requirements.txt (line 35)) (4.12.2)\n",
      "Requirement already satisfied: urllib3==2.2.2 in c:\\users\\dhanashri\\anaconda3\\lib\\site-packages (from -r C:/Users/Dhanashri/project/requirements.txt (line 36)) (2.2.2)\n",
      "Requirement already satisfied: Werkzeug==3.0.3 in c:\\users\\dhanashri\\anaconda3\\lib\\site-packages (from -r C:/Users/Dhanashri/project/requirements.txt (line 37)) (3.0.3)\n",
      "Requirement already satisfied: whisper-timestamped==1.15.4 in c:\\users\\dhanashri\\anaconda3\\lib\\site-packages (from -r C:/Users/Dhanashri/project/requirements.txt (line 38)) (1.15.4)\n",
      "Collecting streamlit==1.29.0 (from -r C:/Users/Dhanashri/project/requirements.txt (line 39))\n",
      "  Using cached streamlit-1.29.0-py2.py3-none-any.whl.metadata (8.2 kB)\n",
      "Requirement already satisfied: streamlit-option-menu==0.3.6 in c:\\users\\dhanashri\\anaconda3\\lib\\site-packages (from -r C:/Users/Dhanashri/project/requirements.txt (line 40)) (0.3.6)\n",
      "Requirement already satisfied: nltk==3.8.1 in c:\\users\\dhanashri\\anaconda3\\lib\\site-packages (from -r C:/Users/Dhanashri/project/requirements.txt (line 41)) (3.8.1)\n",
      "Requirement already satisfied: networkx==3.2 in c:\\users\\dhanashri\\anaconda3\\lib\\site-packages (from -r C:/Users/Dhanashri/project/requirements.txt (line 42)) (3.2)\n",
      "Requirement already satisfied: scipy in c:\\users\\dhanashri\\anaconda3\\lib\\site-packages (from dtw-python==1.5.1->-r C:/Users/Dhanashri/project/requirements.txt (line 8)) (1.13.1)\n",
      "Requirement already satisfied: importlib-metadata>=3.6.0 in c:\\users\\dhanashri\\anaconda3\\lib\\site-packages (from Flask==3.0.3->-r C:/Users/Dhanashri/project/requirements.txt (line 10)) (4.11.3)\n",
      "Requirement already satisfied: altair<6,>=4.0 in c:\\users\\dhanashri\\anaconda3\\lib\\site-packages (from streamlit==1.29.0->-r C:/Users/Dhanashri/project/requirements.txt (line 39)) (5.4.0)\n",
      "Requirement already satisfied: cachetools<6,>=4.0 in c:\\users\\dhanashri\\anaconda3\\lib\\site-packages (from streamlit==1.29.0->-r C:/Users/Dhanashri/project/requirements.txt (line 39)) (5.4.0)\n",
      "Requirement already satisfied: packaging<24,>=16.8 in c:\\users\\dhanashri\\anaconda3\\lib\\site-packages (from streamlit==1.29.0->-r C:/Users/Dhanashri/project/requirements.txt (line 39)) (21.3)\n",
      "Requirement already satisfied: pandas<3,>=1.3.0 in c:\\users\\dhanashri\\anaconda3\\lib\\site-packages (from streamlit==1.29.0->-r C:/Users/Dhanashri/project/requirements.txt (line 39)) (1.4.4)\n",
      "Requirement already satisfied: protobuf<5,>=3.20 in c:\\users\\dhanashri\\anaconda3\\lib\\site-packages (from streamlit==1.29.0->-r C:/Users/Dhanashri/project/requirements.txt (line 39)) (4.25.4)\n",
      "Requirement already satisfied: pyarrow>=6.0 in c:\\users\\dhanashri\\anaconda3\\lib\\site-packages (from streamlit==1.29.0->-r C:/Users/Dhanashri/project/requirements.txt (line 39)) (17.0.0)\n",
      "Requirement already satisfied: python-dateutil<3,>=2.7.3 in c:\\users\\dhanashri\\anaconda3\\lib\\site-packages (from streamlit==1.29.0->-r C:/Users/Dhanashri/project/requirements.txt (line 39)) (2.8.2)\n",
      "Requirement already satisfied: rich<14,>=10.14.0 in c:\\users\\dhanashri\\anaconda3\\lib\\site-packages (from streamlit==1.29.0->-r C:/Users/Dhanashri/project/requirements.txt (line 39)) (13.7.1)\n",
      "Requirement already satisfied: tenacity<9,>=8.1.0 in c:\\users\\dhanashri\\anaconda3\\lib\\site-packages (from streamlit==1.29.0->-r C:/Users/Dhanashri/project/requirements.txt (line 39)) (8.5.0)\n",
      "Requirement already satisfied: toml<2,>=0.10.1 in c:\\users\\dhanashri\\anaconda3\\lib\\site-packages (from streamlit==1.29.0->-r C:/Users/Dhanashri/project/requirements.txt (line 39)) (0.10.2)\n",
      "Requirement already satisfied: tzlocal<6,>=1.1 in c:\\users\\dhanashri\\anaconda3\\lib\\site-packages (from streamlit==1.29.0->-r C:/Users/Dhanashri/project/requirements.txt (line 39)) (5.2)\n",
      "Requirement already satisfied: validators<1,>=0.2 in c:\\users\\dhanashri\\anaconda3\\lib\\site-packages (from streamlit==1.29.0->-r C:/Users/Dhanashri/project/requirements.txt (line 39)) (0.33.0)\n",
      "Requirement already satisfied: gitpython!=3.1.19,<4,>=3.0.7 in c:\\users\\dhanashri\\anaconda3\\lib\\site-packages (from streamlit==1.29.0->-r C:/Users/Dhanashri/project/requirements.txt (line 39)) (3.1.43)\n",
      "Requirement already satisfied: pydeck<1,>=0.8.0b4 in c:\\users\\dhanashri\\anaconda3\\lib\\site-packages (from streamlit==1.29.0->-r C:/Users/Dhanashri/project/requirements.txt (line 39)) (0.9.1)\n",
      "Requirement already satisfied: tornado<7,>=6.0.3 in c:\\users\\dhanashri\\anaconda3\\lib\\site-packages (from streamlit==1.29.0->-r C:/Users/Dhanashri/project/requirements.txt (line 39)) (6.1)\n",
      "Requirement already satisfied: watchdog>=2.1.5 in c:\\users\\dhanashri\\anaconda3\\lib\\site-packages (from streamlit==1.29.0->-r C:/Users/Dhanashri/project/requirements.txt (line 39)) (2.1.6)\n",
      "Requirement already satisfied: jsonschema>=3.0 in c:\\users\\dhanashri\\anaconda3\\lib\\site-packages (from altair<6,>=4.0->streamlit==1.29.0->-r C:/Users/Dhanashri/project/requirements.txt (line 39)) (4.16.0)\n",
      "Requirement already satisfied: narwhals>=1.1.0 in c:\\users\\dhanashri\\anaconda3\\lib\\site-packages (from altair<6,>=4.0->streamlit==1.29.0->-r C:/Users/Dhanashri/project/requirements.txt (line 39)) (1.4.1)\n",
      "Requirement already satisfied: gitdb<5,>=4.0.1 in c:\\users\\dhanashri\\anaconda3\\lib\\site-packages (from gitpython!=3.1.19,<4,>=3.0.7->streamlit==1.29.0->-r C:/Users/Dhanashri/project/requirements.txt (line 39)) (4.0.11)\n",
      "Requirement already satisfied: zipp>=0.5 in c:\\users\\dhanashri\\anaconda3\\lib\\site-packages (from importlib-metadata>=3.6.0->Flask==3.0.3->-r C:/Users/Dhanashri/project/requirements.txt (line 10)) (3.8.0)\n",
      "Requirement already satisfied: pyparsing!=3.0.5,>=2.0.2 in c:\\users\\dhanashri\\anaconda3\\lib\\site-packages (from packaging<24,>=16.8->streamlit==1.29.0->-r C:/Users/Dhanashri/project/requirements.txt (line 39)) (3.0.9)\n",
      "Requirement already satisfied: pytz>=2020.1 in c:\\users\\dhanashri\\anaconda3\\lib\\site-packages (from pandas<3,>=1.3.0->streamlit==1.29.0->-r C:/Users/Dhanashri/project/requirements.txt (line 39)) (2022.1)\n",
      "Requirement already satisfied: six>=1.5 in c:\\users\\dhanashri\\anaconda3\\lib\\site-packages (from python-dateutil<3,>=2.7.3->streamlit==1.29.0->-r C:/Users/Dhanashri/project/requirements.txt (line 39)) (1.16.0)\n",
      "Requirement already satisfied: markdown-it-py>=2.2.0 in c:\\users\\dhanashri\\anaconda3\\lib\\site-packages (from rich<14,>=10.14.0->streamlit==1.29.0->-r C:/Users/Dhanashri/project/requirements.txt (line 39)) (3.0.0)\n",
      "Requirement already satisfied: pygments<3.0.0,>=2.13.0 in c:\\users\\dhanashri\\anaconda3\\lib\\site-packages (from rich<14,>=10.14.0->streamlit==1.29.0->-r C:/Users/Dhanashri/project/requirements.txt (line 39)) (2.18.0)\n",
      "Requirement already satisfied: tzdata in c:\\users\\dhanashri\\anaconda3\\lib\\site-packages (from tzlocal<6,>=1.1->streamlit==1.29.0->-r C:/Users/Dhanashri/project/requirements.txt (line 39)) (2024.1)\n",
      "Requirement already satisfied: smmap<6,>=3.0.1 in c:\\users\\dhanashri\\anaconda3\\lib\\site-packages (from gitdb<5,>=4.0.1->gitpython!=3.1.19,<4,>=3.0.7->streamlit==1.29.0->-r C:/Users/Dhanashri/project/requirements.txt (line 39)) (5.0.1)\n",
      "Requirement already satisfied: attrs>=17.4.0 in c:\\users\\dhanashri\\anaconda3\\lib\\site-packages (from jsonschema>=3.0->altair<6,>=4.0->streamlit==1.29.0->-r C:/Users/Dhanashri/project/requirements.txt (line 39)) (21.4.0)\n",
      "Requirement already satisfied: pyrsistent!=0.17.0,!=0.17.1,!=0.17.2,>=0.14.0 in c:\\users\\dhanashri\\anaconda3\\lib\\site-packages (from jsonschema>=3.0->altair<6,>=4.0->streamlit==1.29.0->-r C:/Users/Dhanashri/project/requirements.txt (line 39)) (0.18.0)\n",
      "Requirement already satisfied: mdurl~=0.1 in c:\\users\\dhanashri\\anaconda3\\lib\\site-packages (from markdown-it-py>=2.2.0->rich<14,>=10.14.0->streamlit==1.29.0->-r C:/Users/Dhanashri/project/requirements.txt (line 39)) (0.1.2)\n",
      "Using cached streamlit-1.29.0-py2.py3-none-any.whl (8.4 MB)\n",
      "Installing collected packages: streamlit\n",
      "  Attempting uninstall: streamlit\n",
      "    Found existing installation: streamlit 1.37.1\n",
      "    Uninstalling streamlit-1.37.1:\n",
      "      Successfully uninstalled streamlit-1.37.1\n",
      "Successfully installed streamlit-1.29.0\n",
      "Note: you may need to restart the kernel to use updated packages.\n"
     ]
    }
   ],
   "source": [
    "pip install -r \"C:/Users/Dhanashri/project/requirements.txt\""
   ]
  },
  {
   "cell_type": "code",
   "execution_count": 6,
   "id": "55af910a",
   "metadata": {},
   "outputs": [
    {
     "name": "stdout",
     "output_type": "stream",
     "text": [
      "Requirement already satisfied: ffmpeg-python in c:\\users\\dhanashri\\anaconda3\\lib\\site-packages (0.2.0)Note: you may need to restart the kernel to use updated packages.\n",
      "\n",
      "Requirement already satisfied: future in c:\\users\\dhanashri\\anaconda3\\lib\\site-packages (from ffmpeg-python) (0.18.2)\n"
     ]
    }
   ],
   "source": [
    "pip install ffmpeg-python"
   ]
  },
  {
   "cell_type": "code",
   "execution_count": 7,
   "id": "71ca6a35",
   "metadata": {},
   "outputs": [
    {
     "name": "stdout",
     "output_type": "stream",
     "text": [
      "Requirement already satisfied: whisper-timestamped in c:\\users\\dhanashri\\anaconda3\\lib\\site-packages (1.15.4)\n",
      "Requirement already satisfied: Cython in c:\\users\\dhanashri\\anaconda3\\lib\\site-packages (from whisper-timestamped) (3.0.10)\n",
      "Requirement already satisfied: dtw-python in c:\\users\\dhanashri\\anaconda3\\lib\\site-packages (from whisper-timestamped) (1.5.1)\n",
      "Requirement already satisfied: openai-whisper in c:\\users\\dhanashri\\anaconda3\\lib\\site-packages (from whisper-timestamped) (20231117)\n",
      "Requirement already satisfied: scipy in c:\\users\\dhanashri\\anaconda3\\lib\\site-packages (from dtw-python->whisper-timestamped) (1.13.1)\n",
      "Requirement already satisfied: numpy>=1.23.5 in c:\\users\\dhanashri\\anaconda3\\lib\\site-packages (from dtw-python->whisper-timestamped) (1.26.4)\n",
      "Requirement already satisfied: numba in c:\\users\\dhanashri\\anaconda3\\lib\\site-packages (from openai-whisper->whisper-timestamped) (0.60.0)\n",
      "Requirement already satisfied: torch in c:\\users\\dhanashri\\anaconda3\\lib\\site-packages (from openai-whisper->whisper-timestamped) (2.4.0)\n",
      "Requirement already satisfied: tqdm in c:\\users\\dhanashri\\anaconda3\\lib\\site-packages (from openai-whisper->whisper-timestamped) (4.66.4)\n",
      "Requirement already satisfied: more-itertools in c:\\users\\dhanashri\\anaconda3\\lib\\site-packages (from openai-whisper->whisper-timestamped) (10.3.0)\n",
      "Requirement already satisfied: tiktoken in c:\\users\\dhanashri\\anaconda3\\lib\\site-packages (from openai-whisper->whisper-timestamped) (0.7.0)\n",
      "Requirement already satisfied: llvmlite<0.44,>=0.43.0dev0 in c:\\users\\dhanashri\\anaconda3\\lib\\site-packages (from numba->openai-whisper->whisper-timestamped) (0.43.0)\n",
      "Requirement already satisfied: regex>=2022.1.18 in c:\\users\\dhanashri\\anaconda3\\lib\\site-packages (from tiktoken->openai-whisper->whisper-timestamped) (2024.7.24)\n",
      "Requirement already satisfied: requests>=2.26.0 in c:\\users\\dhanashri\\anaconda3\\lib\\site-packages (from tiktoken->openai-whisper->whisper-timestamped) (2.32.3)\n",
      "Requirement already satisfied: filelock in c:\\users\\dhanashri\\anaconda3\\lib\\site-packages (from torch->openai-whisper->whisper-timestamped) (3.15.4)\n",
      "Requirement already satisfied: typing-extensions>=4.8.0 in c:\\users\\dhanashri\\anaconda3\\lib\\site-packages (from torch->openai-whisper->whisper-timestamped) (4.12.2)\n",
      "Requirement already satisfied: sympy in c:\\users\\dhanashri\\anaconda3\\lib\\site-packages (from torch->openai-whisper->whisper-timestamped) (1.13.1)\n",
      "Requirement already satisfied: networkx in c:\\users\\dhanashri\\anaconda3\\lib\\site-packages (from torch->openai-whisper->whisper-timestamped) (3.2)\n",
      "Requirement already satisfied: jinja2 in c:\\users\\dhanashri\\anaconda3\\lib\\site-packages (from torch->openai-whisper->whisper-timestamped) (3.1.4)\n",
      "Requirement already satisfied: fsspec in c:\\users\\dhanashri\\anaconda3\\lib\\site-packages (from torch->openai-whisper->whisper-timestamped) (2024.6.1)\n",
      "Requirement already satisfied: colorama in c:\\users\\dhanashri\\anaconda3\\lib\\site-packages (from tqdm->openai-whisper->whisper-timestamped) (0.4.6)\n",
      "Requirement already satisfied: charset-normalizer<4,>=2 in c:\\users\\dhanashri\\anaconda3\\lib\\site-packages (from requests>=2.26.0->tiktoken->openai-whisper->whisper-timestamped) (3.3.2)\n",
      "Requirement already satisfied: idna<4,>=2.5 in c:\\users\\dhanashri\\anaconda3\\lib\\site-packages (from requests>=2.26.0->tiktoken->openai-whisper->whisper-timestamped) (3.7)\n",
      "Requirement already satisfied: urllib3<3,>=1.21.1 in c:\\users\\dhanashri\\anaconda3\\lib\\site-packages (from requests>=2.26.0->tiktoken->openai-whisper->whisper-timestamped) (2.2.2)\n",
      "Requirement already satisfied: certifi>=2017.4.17 in c:\\users\\dhanashri\\anaconda3\\lib\\site-packages (from requests>=2.26.0->tiktoken->openai-whisper->whisper-timestamped) (2024.7.4)\n",
      "Requirement already satisfied: MarkupSafe>=2.0 in c:\\users\\dhanashri\\anaconda3\\lib\\site-packages (from jinja2->torch->openai-whisper->whisper-timestamped) (2.1.5)\n",
      "Requirement already satisfied: mpmath<1.4,>=1.1.0 in c:\\users\\dhanashri\\anaconda3\\lib\\site-packages (from sympy->torch->openai-whisper->whisper-timestamped) (1.3.0)\n",
      "Note: you may need to restart the kernel to use updated packages.\n"
     ]
    }
   ],
   "source": [
    "pip install whisper-timestamped"
   ]
  },
  {
   "cell_type": "code",
   "execution_count": 8,
   "id": "fc352f0a",
   "metadata": {},
   "outputs": [],
   "source": [
    "! pip install streamlit -q"
   ]
  },
  {
   "cell_type": "code",
   "execution_count": null,
   "id": "fb6152ae",
   "metadata": {},
   "outputs": [],
   "source": [
    "! streamlit run C:/Users/Dhanashri/Project/videosentiment.py & npx localtunnel --port 8501"
   ]
  },
  {
   "cell_type": "code",
   "execution_count": null,
   "id": "94d64673",
   "metadata": {},
   "outputs": [],
   "source": []
  }
 ],
 "metadata": {
  "kernelspec": {
   "display_name": "Python 3 (ipykernel)",
   "language": "python",
   "name": "python3"
  },
  "language_info": {
   "codemirror_mode": {
    "name": "ipython",
    "version": 3
   },
   "file_extension": ".py",
   "mimetype": "text/x-python",
   "name": "python",
   "nbconvert_exporter": "python",
   "pygments_lexer": "ipython3",
   "version": "3.9.13"
  }
 },
 "nbformat": 4,
 "nbformat_minor": 5
}
